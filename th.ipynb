{
 "cells": [
  {
   "cell_type": "code",
   "execution_count": 1,
   "metadata": {},
   "outputs": [
    {
     "name": "stderr",
     "output_type": "stream",
     "text": [
      "WARNING (theano.sandbox.cuda): The cuda backend is deprecated and will be removed in the next release (v0.10).  Please switch to the gpuarray backend. You can get more information about how to switch at this URL:\n",
      " https://github.com/Theano/Theano/wiki/Converting-to-the-new-gpu-back-end%28gpuarray%29\n",
      "\n",
      "Using gpu device 0: Tesla K80 (CNMeM is disabled, cuDNN 5110)\n"
     ]
    }
   ],
   "source": [
    "import theano\n",
    "from theano import tensor as T\n",
    "from theano.sandbox.rng_mrg import MRG_RandomStreams as RandomStreams\n",
    "import numpy as np\n",
    "import pickle\n",
    "import gzip\n",
    "import pdb"
   ]
  },
  {
   "cell_type": "code",
   "execution_count": 2,
   "metadata": {
    "collapsed": true
   },
   "outputs": [],
   "source": [
    "train_set, valid_set, test_set = pickle.load(gzip.open('mnist.pkl.gz', 'rb'), encoding='latin1')"
   ]
  },
  {
   "cell_type": "code",
   "execution_count": 3,
   "metadata": {
    "collapsed": true
   },
   "outputs": [],
   "source": [
    "train_set = (np.vstack([train_set[0], valid_set[0]]),\n",
    "             (np.hstack([train_set[1], valid_set[1]])))\n",
    "srng = RandomStreams()"
   ]
  },
  {
   "cell_type": "code",
   "execution_count": 4,
   "metadata": {
    "collapsed": true
   },
   "outputs": [],
   "source": [
    "def weight_variable(shape):\n",
    "    return theano.shared(np.asarray(np.random.normal(0, 0.1, shape), dtype=theano.config.floatX))\n",
    "\n",
    "def bias(shape):\n",
    "    return theano.shared(np.full(shape, 0.1, dtype=theano.config.floatX))\n",
    "\n",
    "def conv2d(x, W):\n",
    "    return theano.tensor.nnet.conv.conv2d(x, W, filter_shape=[1,5,5,32], border_mode='full')\n",
    "\n",
    "def max_pool_2x2(x):\n",
    "    return theano.tensor.signal.pool.pool_2d(x, ws=(2,2), ignore_border=True)\n",
    "\n",
    "def dropout(X, p=0.):\n",
    "    if p > 0:\n",
    "        retain_prob = 1 - p\n",
    "        X *= srng.binomial(X.shape, p=retain_prob, dtype=theano.config.floatX)\n",
    "        X /= retain_prob\n",
    "    return X\n",
    "\n",
    "def Adam(cost, params, lr=0.001, b1=0.1, b2=0.0001, e=1e-8):\n",
    "    pdb.set_trace()\n",
    "    updates = []\n",
    "    grads = T.grad(cost, params)\n",
    "    i = theano.shared(np.full([1], 0.0, dtype=theano.config.floatX))\n",
    "    i_t = i + 1.\n",
    "    fix1 = 1. - (1. - b1)**i_t\n",
    "    fix2 = 1. - (1. - b2)**i_t\n",
    "    lr_t = lr * (T.sqrt(fix2) / fix1)\n",
    "    for p, g in zip(params, grads):\n",
    "        m = theano.shared(p.get_value() * 0.)\n",
    "        v = theano.shared(p.get_value() * 0.)\n",
    "        m_t = (b1 * g) + ((1. - b1) * m)\n",
    "        v_t = (b2 * T.sqr(g)) + ((1. - b2) * v)\n",
    "        #g_t = m_t / (T.sqrt(v_t) + e)\n",
    "        g_t = mt\n",
    "        p_t = p - (lr_t * g_t)\n",
    "        updates.append((m, m_t))\n",
    "        updates.append((v, v_t))\n",
    "        updates.append((p, p_t))\n",
    "    updates.append((i, i_t))\n",
    "    return updates"
   ]
  },
  {
   "cell_type": "code",
   "execution_count": 5,
   "metadata": {},
   "outputs": [],
   "source": [
    "x = T.fmatrix('x')\n",
    "y = T.ivector('y')\n",
    "\n",
    "x_image = theano.tensor.reshape(x, [-1, 1,28, 28])\n",
    "y_oh = theano.tensor.extra_ops.to_one_hot(y, 10)\n",
    "# First conv layer\n",
    "\n",
    "W_conv1 = weight_variable([32, 1, 5, 5])\n",
    "#b_conv1 = bias(32)\n",
    "\n",
    "h_conv1 = theano.tensor.nnet.relu(conv2d(x_image, W_conv1)[:, :, 2:28, 2:28])\n",
    "h_pool1 = max_pool_2x2(h_conv1)\n",
    "\n",
    "# Second conv layer\n",
    "\n",
    "W_conv2 = weight_variable([64, 32, 5, 5])\n",
    "#b_conv2 = bias([64])\n",
    "\n",
    "h_conv2 = theano.tensor.nnet.relu(conv2d(h_pool1, W_conv2)[:, :, 2:16, 2:16])\n",
    "h_pool2 = max_pool_2x2(h_conv2)"
   ]
  },
  {
   "cell_type": "code",
   "execution_count": 6,
   "metadata": {
    "collapsed": true
   },
   "outputs": [],
   "source": [
    "# fully connected layer\n",
    "W_fc1 = weight_variable([7*7*64, 1024])\n",
    "b_fc1 = bias([1024])\n",
    "\n",
    "h_pool2_flat = theano.tensor.reshape(h_pool2, [-1, 7*7*64])\n",
    "h_fc1 = theano.tensor.nnet.relu(theano.tensor.dot(h_pool2_flat, W_fc1)+b_fc1)\n",
    "\n",
    "h_fc1_drop = dropout(h_fc1, 0.5)"
   ]
  },
  {
   "cell_type": "code",
   "execution_count": 7,
   "metadata": {
    "collapsed": true
   },
   "outputs": [],
   "source": [
    "# output layer\n",
    "W_fc2 = weight_variable([1024, 10])\n",
    "b_fc2 = bias([10])\n",
    "\n",
    "y_conv = theano.tensor.nnet.softmax(theano.tensor.dot(h_fc1_drop, W_fc2)+b_fc2)\n",
    "y_pred = theano.tensor.argmax(y_conv, axis=1)"
   ]
  },
  {
   "cell_type": "code",
   "execution_count": 8,
   "metadata": {},
   "outputs": [
    {
     "ename": "TypeError",
     "evalue": "Variables do not support boolean operations.",
     "output_type": "error",
     "traceback": [
      "\u001b[0;31m---------------------------------------------------------------------------\u001b[0m",
      "\u001b[0;31mTypeError\u001b[0m                                 Traceback (most recent call last)",
      "\u001b[0;32m<ipython-input-8-60da8ec7941c>\u001b[0m in \u001b[0;36m<module>\u001b[0;34m()\u001b[0m\n\u001b[1;32m      3\u001b[0m \u001b[0;31m#params = [W_conv1, b_conv1, W_conv2, b_conv2, W_fc1, b_fc1, W_fc2, b_fc2]\u001b[0m\u001b[0;34m\u001b[0m\u001b[0;34m\u001b[0m\u001b[0m\n\u001b[1;32m      4\u001b[0m \u001b[0mparams\u001b[0m \u001b[0;34m=\u001b[0m \u001b[0;34m[\u001b[0m\u001b[0mW_conv1\u001b[0m\u001b[0;34m,\u001b[0m \u001b[0mW_conv2\u001b[0m\u001b[0;34m,\u001b[0m \u001b[0mW_fc1\u001b[0m\u001b[0;34m,\u001b[0m \u001b[0mb_fc1\u001b[0m\u001b[0;34m,\u001b[0m \u001b[0mW_fc2\u001b[0m\u001b[0;34m,\u001b[0m \u001b[0mb_fc2\u001b[0m\u001b[0;34m]\u001b[0m\u001b[0;34m\u001b[0m\u001b[0m\n\u001b[0;32m----> 5\u001b[0;31m \u001b[0mupdates\u001b[0m \u001b[0;34m=\u001b[0m \u001b[0mAdam\u001b[0m\u001b[0;34m(\u001b[0m\u001b[0mloss\u001b[0m\u001b[0;34m,\u001b[0m \u001b[0mparams\u001b[0m\u001b[0;34m,\u001b[0m \u001b[0mlr\u001b[0m\u001b[0;34m=\u001b[0m\u001b[0;36m1e-4\u001b[0m\u001b[0;34m)\u001b[0m\u001b[0;34m\u001b[0m\u001b[0m\n\u001b[0m\u001b[1;32m      6\u001b[0m \u001b[0;34m\u001b[0m\u001b[0m\n\u001b[1;32m      7\u001b[0m \u001b[0mtrain\u001b[0m \u001b[0;34m=\u001b[0m \u001b[0mtheano\u001b[0m\u001b[0;34m.\u001b[0m\u001b[0mfunction\u001b[0m\u001b[0;34m(\u001b[0m\u001b[0minputs\u001b[0m\u001b[0;34m=\u001b[0m\u001b[0;34m[\u001b[0m\u001b[0mx\u001b[0m\u001b[0;34m,\u001b[0m \u001b[0my\u001b[0m\u001b[0;34m]\u001b[0m\u001b[0;34m,\u001b[0m \u001b[0moutputs\u001b[0m\u001b[0;34m=\u001b[0m\u001b[0mloss\u001b[0m\u001b[0;34m,\u001b[0m \u001b[0mupdates\u001b[0m\u001b[0;34m=\u001b[0m\u001b[0mupdates\u001b[0m\u001b[0;34m,\u001b[0m \u001b[0mallow_input_downcast\u001b[0m\u001b[0;34m=\u001b[0m\u001b[0;32mTrue\u001b[0m\u001b[0;34m)\u001b[0m\u001b[0;34m\u001b[0m\u001b[0m\n",
      "\u001b[0;32m<ipython-input-4-c191cbedca99>\u001b[0m in \u001b[0;36mAdam\u001b[0;34m(cost, params, lr, b1, b2, e)\u001b[0m\n\u001b[1;32m     31\u001b[0m         \u001b[0mm_t\u001b[0m \u001b[0;34m=\u001b[0m \u001b[0;34m(\u001b[0m\u001b[0mb1\u001b[0m \u001b[0;34m*\u001b[0m \u001b[0mg\u001b[0m\u001b[0;34m)\u001b[0m \u001b[0;34m+\u001b[0m \u001b[0;34m(\u001b[0m\u001b[0;34m(\u001b[0m\u001b[0;36m1.\u001b[0m \u001b[0;34m-\u001b[0m \u001b[0mb1\u001b[0m\u001b[0;34m)\u001b[0m \u001b[0;34m*\u001b[0m \u001b[0mm\u001b[0m\u001b[0;34m)\u001b[0m\u001b[0;34m\u001b[0m\u001b[0m\n\u001b[1;32m     32\u001b[0m         \u001b[0mv_t\u001b[0m \u001b[0;34m=\u001b[0m \u001b[0;34m(\u001b[0m\u001b[0mb2\u001b[0m \u001b[0;34m*\u001b[0m \u001b[0mT\u001b[0m\u001b[0;34m.\u001b[0m\u001b[0msqr\u001b[0m\u001b[0;34m(\u001b[0m\u001b[0mg\u001b[0m\u001b[0;34m)\u001b[0m\u001b[0;34m)\u001b[0m \u001b[0;34m+\u001b[0m \u001b[0;34m(\u001b[0m\u001b[0;34m(\u001b[0m\u001b[0;36m1.\u001b[0m \u001b[0;34m-\u001b[0m \u001b[0mb2\u001b[0m\u001b[0;34m)\u001b[0m \u001b[0;34m*\u001b[0m \u001b[0mv\u001b[0m\u001b[0;34m)\u001b[0m\u001b[0;34m\u001b[0m\u001b[0m\n\u001b[0;32m---> 33\u001b[0;31m         \u001b[0mg_t\u001b[0m \u001b[0;34m=\u001b[0m \u001b[0mm_t\u001b[0m \u001b[0;34m/\u001b[0m \u001b[0mmin\u001b[0m\u001b[0;34m(\u001b[0m\u001b[0;34m(\u001b[0m\u001b[0mT\u001b[0m\u001b[0;34m.\u001b[0m\u001b[0msqrt\u001b[0m\u001b[0;34m(\u001b[0m\u001b[0mv_t\u001b[0m\u001b[0;34m)\u001b[0m \u001b[0;34m+\u001b[0m \u001b[0me\u001b[0m\u001b[0;34m)\u001b[0m\u001b[0;34m,\u001b[0m \u001b[0;36m1e-4\u001b[0m\u001b[0;34m)\u001b[0m\u001b[0;34m\u001b[0m\u001b[0m\n\u001b[0m\u001b[1;32m     34\u001b[0m         \u001b[0mp_t\u001b[0m \u001b[0;34m=\u001b[0m \u001b[0mp\u001b[0m \u001b[0;34m-\u001b[0m \u001b[0;34m(\u001b[0m\u001b[0mlr_t\u001b[0m \u001b[0;34m*\u001b[0m \u001b[0mg_t\u001b[0m\u001b[0;34m)\u001b[0m\u001b[0;34m\u001b[0m\u001b[0m\n\u001b[1;32m     35\u001b[0m         \u001b[0mupdates\u001b[0m\u001b[0;34m.\u001b[0m\u001b[0mappend\u001b[0m\u001b[0;34m(\u001b[0m\u001b[0;34m(\u001b[0m\u001b[0mm\u001b[0m\u001b[0;34m,\u001b[0m \u001b[0mm_t\u001b[0m\u001b[0;34m)\u001b[0m\u001b[0;34m)\u001b[0m\u001b[0;34m\u001b[0m\u001b[0m\n",
      "\u001b[0;32m~/deeplearning1/lib/python3.5/site-packages/theano/tensor/var.py\u001b[0m in \u001b[0;36m__bool__\u001b[0;34m(self)\u001b[0m\n\u001b[1;32m     89\u001b[0m         \u001b[0;32melse\u001b[0m\u001b[0;34m:\u001b[0m\u001b[0;34m\u001b[0m\u001b[0m\n\u001b[1;32m     90\u001b[0m             raise TypeError(\n\u001b[0;32m---> 91\u001b[0;31m                 \u001b[0;34m\"Variables do not support boolean operations.\"\u001b[0m\u001b[0;34m\u001b[0m\u001b[0m\n\u001b[0m\u001b[1;32m     92\u001b[0m             )\n\u001b[1;32m     93\u001b[0m \u001b[0;34m\u001b[0m\u001b[0m\n",
      "\u001b[0;31mTypeError\u001b[0m: Variables do not support boolean operations."
     ]
    }
   ],
   "source": [
    "loss = theano.tensor.mean(theano.tensor.nnet.nnet.categorical_crossentropy(y_conv, y))\n",
    "\n",
    "#params = [W_conv1, b_conv1, W_conv2, b_conv2, W_fc1, b_fc1, W_fc2, b_fc2]\n",
    "params = [W_conv1, W_conv2, W_fc1, b_fc1, W_fc2, b_fc2]\n",
    "updates = Adam(loss, params, lr=1e-4)\n",
    "\n",
    "train = theano.function(inputs=[x, y], outputs=loss, updates=updates, allow_input_downcast=True)\n",
    "predict = theano.function(inputs=[x], outputs=y_pred, allow_input_downcast=True)"
   ]
  },
  {
   "cell_type": "code",
   "execution_count": null,
   "metadata": {},
   "outputs": [],
   "source": [
    "\n",
    "batch_size = 50\n",
    "print(\"hello\")\n",
    "for i in range(20000):\n",
    "    idxs = np.random.randint(0, train_set[0].shape[0]-1, 50)\n",
    "    X_batch = train_set[0][idxs, :]\n",
    "    Y_batch = train_set[1][idxs]\n",
    "    loss = train(X_batch, Y_batch)\n",
    "    if i%1000==0:\n",
    "        accuracy = np.mean(Y_batch == predict(X_batch))\n",
    "        print(\"Step: {}, accuracy: {:.2f}\".format(i, accuracy*100))\n",
    "\n",
    "test_accuracy = np.mean(np.argmax(test_set[1], axis=1) == predict(test_set[0]))"
   ]
  },
  {
   "cell_type": "code",
   "execution_count": null,
   "metadata": {
    "collapsed": true
   },
   "outputs": [],
   "source": []
  }
 ],
 "metadata": {
  "kernelspec": {
   "display_name": "Python 3",
   "language": "python",
   "name": "python3"
  },
  "language_info": {
   "codemirror_mode": {
    "name": "ipython",
    "version": 3
   },
   "file_extension": ".py",
   "mimetype": "text/x-python",
   "name": "python",
   "nbconvert_exporter": "python",
   "pygments_lexer": "ipython3",
   "version": "3.5.2"
  }
 },
 "nbformat": 4,
 "nbformat_minor": 2
}
